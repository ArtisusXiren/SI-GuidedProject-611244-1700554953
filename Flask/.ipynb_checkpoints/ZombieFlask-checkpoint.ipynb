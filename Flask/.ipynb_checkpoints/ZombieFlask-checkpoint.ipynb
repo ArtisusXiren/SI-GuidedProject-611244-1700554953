{
 "cells": [
  {
   "cell_type": "code",
   "execution_count": 1,
   "id": "556e1ff3-8255-4809-8b2a-5ac4ed340bc6",
   "metadata": {},
   "outputs": [],
   "source": [
    "from flask import Flask,render_template,request,jsonify\n",
    "from flask_ngrok import run_with_ngrok\n",
    "import pickle\n",
    "import os\n",
    "import numpy as np\n",
    "app=Flask(__name__)\n",
    "directory=os.path.realpath(r\"C:\\Users\\ArtisusXiren\\Desktop\\app\\Flask\\Training\\model.pkl\")\n",
    "Mapping_rurality_directory=os.path.realpath(r\"C:\\Users\\ArtisusXiren\\Desktop\\app\\Flask\\Training\\rurality.pkl\")\n",
    "Mapping_food_directory=os.path.realpath(r\"C:\\Users\\ArtisusXiren\\Desktop\\app\\Flask\\Training\\food.pkl\")\n",
    "Mapping_medication_directory=os.path.realpath(r\"C:\\Users\\ArtisusXiren\\Desktop\\app\\Flask\\Training\\medication.pkl\")\n",
    "Mapping_sanitation_directory=os.path.realpath(r\"C:\\Users\\ArtisusXiren\\Desktop\\app\\Flask\\Training\\sanitation.pkl\")\n",
    "\n",
    "\n",
    "model=pickle.load(open(directory,'rb'))\n",
    "Mapping_feature_2=pickle.load(open(Mapping_rurality_directory,'rb'))\n",
    "Mapping_feature_5=pickle.load(open(Mapping_food_directory,'rb'))\n",
    "Mapping_feature_6=pickle.load(open(Mapping_medication_directory,'rb'))\n",
    "Mapping_feature_7=pickle.load(open(Mapping_sanitation_directory,'rb'))\n",
    "\n",
    "@app.route(\"/\")\n",
    "def main():\n",
    "    return render_template(\"index.html\")\n",
    "@app.route(\"/predict\",methods=['POST'])\n",
    "def upload():\n",
    "    features = []\n",
    "    for i in range(1, 8):\n",
    "            feature_name = f\"feature_{i}\"\n",
    "            feature_value = request.form.get(feature_name)\n",
    "            mapping_dict = {}\n",
    "            if f\"Mapping_{feature_name}\" in globals():\n",
    "                mapping_dict = globals()[f\"Mapping_{feature_name}\"]\n",
    "                feature_value = mapping_dict.get(feature_value, feature_value)\n",
    "            features.append(float(feature_value))\n",
    "    array_of_features = np.array(features).reshape(1, -1)\n",
    "    print(array_of_features)\n",
    "    prediction = model.predict(array_of_features)\n",
    "    print(prediction[0])\n",
    "    output = \"Human\" if prediction[0] == 1.0 else \"Zombie\"\n",
    "    print(output)\n",
    "    return jsonify({\"prediction_text\":output})"
   ]
  },
  {
   "cell_type": "code",
   "execution_count": null,
   "id": "0512ae9a-6476-4023-b91d-d29937fd97a6",
   "metadata": {},
   "outputs": [
    {
     "name": "stdout",
     "output_type": "stream",
     "text": [
      " * Serving Flask app '__main__'\n",
      " * Debug mode: off\n"
     ]
    },
    {
     "name": "stderr",
     "output_type": "stream",
     "text": [
      "WARNING: This is a development server. Do not use it in a production deployment. Use a production WSGI server instead.\n",
      " * Running on http://127.0.0.1:5000\n",
      "Press CTRL+C to quit\n",
      "127.0.0.1 - - [17/Nov/2023 10:30:27] \"GET / HTTP/1.1\" 200 -\n",
      "127.0.0.1 - - [17/Nov/2023 10:30:34] \"POST /predict HTTP/1.1\" 200 -\n"
     ]
    },
    {
     "name": "stdout",
     "output_type": "stream",
     "text": [
      "[[20.  2.  1.  0.  1.  1.  1.]]\n",
      "0.0\n",
      "Zombie\n"
     ]
    }
   ],
   "source": [
    "app.run()"
   ]
  },
  {
   "cell_type": "code",
   "execution_count": null,
   "id": "7a794f07-6590-46d0-bfc6-9b4000508f7f",
   "metadata": {},
   "outputs": [],
   "source": []
  }
 ],
 "metadata": {
  "kernelspec": {
   "display_name": "Python 3 (ipykernel)",
   "language": "python",
   "name": "python3"
  },
  "language_info": {
   "codemirror_mode": {
    "name": "ipython",
    "version": 3
   },
   "file_extension": ".py",
   "mimetype": "text/x-python",
   "name": "python",
   "nbconvert_exporter": "python",
   "pygments_lexer": "ipython3",
   "version": "3.11.5"
  }
 },
 "nbformat": 4,
 "nbformat_minor": 5
}
