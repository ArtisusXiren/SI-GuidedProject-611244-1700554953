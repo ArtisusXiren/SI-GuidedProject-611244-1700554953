{
 "cells": [
  {
   "cell_type": "code",
   "execution_count": 1,
   "id": "2512dfd9-ea17-45f5-99ae-47b7048ca28c",
   "metadata": {
    "tags": []
   },
   "outputs": [],
   "source": [
    "import numpy as np\n",
    "import pandas as pd\n",
    "from sklearn.linear_model import LogisticRegression\n",
    "from sklearn.feature_selection import SelectKBest, f_regression\n",
    "from sklearn.model_selection import train_test_split\n",
    "from sklearn.metrics import accuracy_score\n",
    "from sklearn.svm import SVC\n",
    "from sklearn.linear_model import LogisticRegression\n",
    "from sklearn.ensemble import RandomForestClassifier\n",
    "from sklearn.metrics import mean_absolute_error,accuracy_score\n",
    "from sklearn.tree import DecisionTreeClassifier\n",
    "import pickle"
   ]
  },
  {
   "cell_type": "code",
   "execution_count": 2,
   "id": "2b01d5e9-0cfa-42fd-b6a9-48d4ecbc315a",
   "metadata": {
    "tags": []
   },
   "outputs": [
    {
     "data": {
      "text/plain": [
       "zombieid        0\n",
       "zombie          0\n",
       "age             0\n",
       "sex             0\n",
       "rurality        0\n",
       "household       0\n",
       "water           0\n",
       "food            0\n",
       "medication      0\n",
       "tools           0\n",
       "firstaid        0\n",
       "sanitation      0\n",
       "clothing       74\n",
       "documents     134\n",
       "dtype: int64"
      ]
     },
     "execution_count": 2,
     "metadata": {},
     "output_type": "execute_result"
    }
   ],
   "source": [
    "zombie_data=pd.read_csv(r\"C:\\Users\\ArtisusXiren\\Desktop\\app\\Data\\zombies.csv\")\n",
    "null=zombie_data.isnull()\n",
    "null=null.sum()\n",
    "null"
   ]
  },
  {
   "cell_type": "code",
   "execution_count": 3,
   "id": "684802b7-3bd5-4652-ad77-2ee9a9ae3c11",
   "metadata": {
    "tags": []
   },
   "outputs": [
    {
     "name": "stdout",
     "output_type": "stream",
     "text": [
      "sanitation\n",
      "No sanitation    102\n",
      "Sanitation        98\n",
      "Name: count, dtype: int64 firstaid\n",
      "First aid supplies       106\n",
      "No first aid supplies     94\n",
      "Name: count, dtype: int64 tools\n",
      "No tools    101\n",
      "tools        99\n",
      "Name: count, dtype: int64 medication\n",
      "No medication    106\n",
      "Medication        94\n",
      "Name: count, dtype: int64 food\n",
      "Food       110\n",
      "No food     90\n",
      "Name: count, dtype: int64\n"
     ]
    }
   ],
   "source": [
    "zombies_d=zombie_data['documents'].value_counts()\n",
    "zombies_c=zombie_data['clothing'].value_counts()\n",
    "zombies_f=zombie_data['food'].value_counts()\n",
    "zombies_m=zombie_data['medication'].value_counts()\n",
    "zombies_t=zombie_data['tools'].value_counts()\n",
    "zombies_fi=zombie_data['firstaid'].value_counts()\n",
    "zombies_s=zombie_data['sanitation'].value_counts()\n",
    "print(zombies_s,zombies_fi,zombies_t,zombies_m,zombies_f)"
   ]
  },
  {
   "cell_type": "code",
   "execution_count": 4,
   "id": "c3813ef4-27cd-4576-b63b-5b6c548c007a",
   "metadata": {
    "tags": []
   },
   "outputs": [],
   "source": [
    "Mapping={}\n",
    "unique=zombie_data['clothing'].unique()\n",
    "for i,value in enumerate(unique):\n",
    "    Mapping[value]=float(i)\n",
    "zombie_data['clothing']=zombie_data['clothing'].map(Mapping)"
   ]
  },
  {
   "cell_type": "code",
   "execution_count": 5,
   "id": "5bc6fc15-e1b9-4993-8686-3a45ea5756d7",
   "metadata": {
    "tags": []
   },
   "outputs": [
    {
     "data": {
      "text/plain": [
       "{nan: 0.0, 'Documents': 1.0}"
      ]
     },
     "execution_count": 5,
     "metadata": {},
     "output_type": "execute_result"
    }
   ],
   "source": [
    "Mapping_documents={}\n",
    "unique=zombie_data['documents'].unique()\n",
    "for i,value in enumerate(unique):\n",
    "    Mapping_documents[value]=float(i)\n",
    "zombie_data['documents']=zombie_data['documents'].map(Mapping_documents)\n",
    "Mapping_documents"
   ]
  },
  {
   "cell_type": "code",
   "execution_count": 6,
   "id": "da703917-170a-4622-8af4-30f6784514d5",
   "metadata": {
    "tags": []
   },
   "outputs": [
    {
     "data": {
      "text/plain": [
       "{'Food': 0.0, 'No food': 1.0}"
      ]
     },
     "execution_count": 6,
     "metadata": {},
     "output_type": "execute_result"
    }
   ],
   "source": [
    "Mapping_food={}\n",
    "unique=zombie_data['food'].unique()\n",
    "for i,value in enumerate(unique):\n",
    "    Mapping_food[value]=float(i)\n",
    "zombie_data['food']=zombie_data['food'].map(Mapping_food)\n",
    "Mapping_food"
   ]
  },
  {
   "cell_type": "code",
   "execution_count": 7,
   "id": "4f364e92-e609-406f-833d-ac9a25db3081",
   "metadata": {},
   "outputs": [],
   "source": [
    "Mapping_medication={}\n",
    "unique=zombie_data['medication'].unique()\n",
    "for i,value in enumerate(unique):\n",
    "    Mapping_medication[value]=float(i)\n",
    "zombie_data['medication']=zombie_data['medication'].map(Mapping_medication)"
   ]
  },
  {
   "cell_type": "code",
   "execution_count": 8,
   "id": "008d8bc0-940a-428e-98e8-7919c31bd6ba",
   "metadata": {},
   "outputs": [],
   "source": [
    "Mapping={}\n",
    "unique=zombie_data['tools'].unique()\n",
    "for i,value in enumerate(unique):\n",
    "    Mapping[value]=float(i)\n",
    "zombie_data['tools']=zombie_data['tools'].map(Mapping)"
   ]
  },
  {
   "cell_type": "code",
   "execution_count": 9,
   "id": "821d5bc6-92ca-4f65-9f6d-88f2f18192cc",
   "metadata": {},
   "outputs": [
    {
     "data": {
      "text/plain": [
       "{'First aid supplies': 0.0, 'No first aid supplies': 1.0}"
      ]
     },
     "execution_count": 9,
     "metadata": {},
     "output_type": "execute_result"
    }
   ],
   "source": [
    "Mapping_firstaid={}\n",
    "unique=zombie_data['firstaid'].unique()\n",
    "for i,value in enumerate(unique):\n",
    "    Mapping_firstaid[value]=float(i)\n",
    "zombie_data['firstaid']=zombie_data['firstaid'].map(Mapping_firstaid)\n",
    "Mapping_firstaid"
   ]
  },
  {
   "cell_type": "code",
   "execution_count": 10,
   "id": "f9b3a2ac-ae8b-4191-b8e8-3ddd4b7e810f",
   "metadata": {
    "tags": []
   },
   "outputs": [
    {
     "data": {
      "text/plain": [
       "{'Sanitation': 0.0, 'No sanitation': 1.0}"
      ]
     },
     "execution_count": 10,
     "metadata": {},
     "output_type": "execute_result"
    }
   ],
   "source": [
    "Mapping_sanitation={}\n",
    "unique=zombie_data['sanitation'].unique()\n",
    "for i,value in enumerate(unique):\n",
    "    Mapping_sanitation[value]=float(i)\n",
    "zombie_data['sanitation']=zombie_data['sanitation'].map(Mapping_sanitation)\n",
    "Mapping_sanitation"
   ]
  },
  {
   "cell_type": "code",
   "execution_count": 11,
   "id": "d88fb8f9-77fe-4a94-af2a-8eb73eff8402",
   "metadata": {
    "tags": []
   },
   "outputs": [
    {
     "data": {
      "text/plain": [
       "{'Rural': 0.0, 'Urban': 1.0, 'Suburban': 2.0}"
      ]
     },
     "execution_count": 11,
     "metadata": {},
     "output_type": "execute_result"
    }
   ],
   "source": [
    "Mapping_rurality={}\n",
    "unique=zombie_data['rurality'].unique()\n",
    "for i,value in enumerate(unique):\n",
    "    Mapping_rurality[value]=float(i)\n",
    "zombie_data['rurality']=zombie_data['rurality'].map(Mapping_rurality)\n",
    "Mapping_rurality"
   ]
  },
  {
   "cell_type": "code",
   "execution_count": 12,
   "id": "6ae127c8-8f32-4ea7-b2a4-dabbc0bd63b4",
   "metadata": {
    "tags": []
   },
   "outputs": [],
   "source": [
    "Mapping_sex={}\n",
    "unique=zombie_data['sex'].unique()\n",
    "for i,value in enumerate(unique):\n",
    "    Mapping_sex[value]=float(i)\n",
    "zombie_data['sex']=zombie_data['sex'].map(Mapping_sex)\n"
   ]
  },
  {
   "cell_type": "code",
   "execution_count": 13,
   "id": "f8770094-7da4-4701-baa3-63c745696474",
   "metadata": {
    "tags": []
   },
   "outputs": [
    {
     "data": {
      "text/plain": [
       "array([[1.],\n",
       "       [0.],\n",
       "       [1.],\n",
       "       [0.],\n",
       "       [1.],\n",
       "       [0.],\n",
       "       [1.],\n",
       "       [0.],\n",
       "       [1.],\n",
       "       [0.],\n",
       "       [1.],\n",
       "       [0.],\n",
       "       [1.],\n",
       "       [0.],\n",
       "       [1.],\n",
       "       [0.],\n",
       "       [1.],\n",
       "       [0.],\n",
       "       [1.],\n",
       "       [0.],\n",
       "       [1.],\n",
       "       [0.],\n",
       "       [1.],\n",
       "       [0.],\n",
       "       [1.],\n",
       "       [0.],\n",
       "       [1.],\n",
       "       [0.],\n",
       "       [1.],\n",
       "       [0.],\n",
       "       [1.],\n",
       "       [0.],\n",
       "       [1.],\n",
       "       [0.],\n",
       "       [1.],\n",
       "       [0.],\n",
       "       [1.],\n",
       "       [0.],\n",
       "       [1.],\n",
       "       [0.],\n",
       "       [1.],\n",
       "       [0.],\n",
       "       [1.],\n",
       "       [0.],\n",
       "       [1.],\n",
       "       [0.],\n",
       "       [1.],\n",
       "       [0.],\n",
       "       [1.],\n",
       "       [0.],\n",
       "       [1.],\n",
       "       [0.],\n",
       "       [1.],\n",
       "       [0.],\n",
       "       [1.],\n",
       "       [0.],\n",
       "       [1.],\n",
       "       [0.],\n",
       "       [1.],\n",
       "       [0.],\n",
       "       [1.],\n",
       "       [0.],\n",
       "       [1.],\n",
       "       [0.],\n",
       "       [1.],\n",
       "       [0.],\n",
       "       [1.],\n",
       "       [0.],\n",
       "       [1.],\n",
       "       [0.],\n",
       "       [1.],\n",
       "       [0.],\n",
       "       [1.],\n",
       "       [0.],\n",
       "       [1.],\n",
       "       [0.],\n",
       "       [1.],\n",
       "       [0.],\n",
       "       [1.],\n",
       "       [0.],\n",
       "       [1.],\n",
       "       [0.],\n",
       "       [1.],\n",
       "       [0.],\n",
       "       [1.],\n",
       "       [0.],\n",
       "       [1.],\n",
       "       [0.],\n",
       "       [1.],\n",
       "       [0.],\n",
       "       [1.],\n",
       "       [0.],\n",
       "       [1.],\n",
       "       [0.],\n",
       "       [1.],\n",
       "       [0.],\n",
       "       [1.],\n",
       "       [0.],\n",
       "       [1.],\n",
       "       [0.],\n",
       "       [1.],\n",
       "       [0.],\n",
       "       [1.],\n",
       "       [0.],\n",
       "       [1.],\n",
       "       [0.],\n",
       "       [1.],\n",
       "       [0.],\n",
       "       [1.],\n",
       "       [0.],\n",
       "       [1.],\n",
       "       [0.],\n",
       "       [1.],\n",
       "       [0.],\n",
       "       [1.],\n",
       "       [0.],\n",
       "       [1.],\n",
       "       [0.],\n",
       "       [1.],\n",
       "       [0.],\n",
       "       [1.],\n",
       "       [0.],\n",
       "       [1.],\n",
       "       [0.],\n",
       "       [1.],\n",
       "       [0.],\n",
       "       [1.],\n",
       "       [0.],\n",
       "       [1.],\n",
       "       [0.],\n",
       "       [1.],\n",
       "       [0.],\n",
       "       [1.],\n",
       "       [0.],\n",
       "       [1.],\n",
       "       [0.],\n",
       "       [1.],\n",
       "       [0.],\n",
       "       [1.],\n",
       "       [0.],\n",
       "       [1.],\n",
       "       [0.],\n",
       "       [1.],\n",
       "       [0.],\n",
       "       [1.],\n",
       "       [0.],\n",
       "       [1.],\n",
       "       [0.],\n",
       "       [1.],\n",
       "       [0.],\n",
       "       [1.],\n",
       "       [0.],\n",
       "       [1.],\n",
       "       [0.],\n",
       "       [1.],\n",
       "       [0.],\n",
       "       [1.],\n",
       "       [0.],\n",
       "       [1.],\n",
       "       [0.],\n",
       "       [1.],\n",
       "       [0.],\n",
       "       [1.],\n",
       "       [0.],\n",
       "       [1.],\n",
       "       [0.],\n",
       "       [1.],\n",
       "       [0.],\n",
       "       [1.],\n",
       "       [0.],\n",
       "       [1.],\n",
       "       [0.],\n",
       "       [1.],\n",
       "       [0.],\n",
       "       [1.],\n",
       "       [0.],\n",
       "       [1.],\n",
       "       [0.],\n",
       "       [1.],\n",
       "       [0.],\n",
       "       [1.],\n",
       "       [0.],\n",
       "       [1.],\n",
       "       [0.],\n",
       "       [1.],\n",
       "       [0.],\n",
       "       [1.],\n",
       "       [0.],\n",
       "       [1.],\n",
       "       [0.],\n",
       "       [1.],\n",
       "       [0.],\n",
       "       [1.],\n",
       "       [0.],\n",
       "       [1.],\n",
       "       [0.],\n",
       "       [1.],\n",
       "       [0.],\n",
       "       [1.],\n",
       "       [0.],\n",
       "       [1.],\n",
       "       [0.],\n",
       "       [1.],\n",
       "       [0.],\n",
       "       [1.],\n",
       "       [0.],\n",
       "       [1.],\n",
       "       [0.],\n",
       "       [1.],\n",
       "       [0.],\n",
       "       [1.],\n",
       "       [0.],\n",
       "       [1.],\n",
       "       [0.],\n",
       "       [1.],\n",
       "       [0.],\n",
       "       [1.],\n",
       "       [0.],\n",
       "       [1.],\n",
       "       [0.],\n",
       "       [1.],\n",
       "       [0.],\n",
       "       [1.],\n",
       "       [0.],\n",
       "       [1.],\n",
       "       [0.],\n",
       "       [1.],\n",
       "       [0.],\n",
       "       [1.],\n",
       "       [0.],\n",
       "       [1.],\n",
       "       [0.],\n",
       "       [1.],\n",
       "       [0.],\n",
       "       [1.],\n",
       "       [0.],\n",
       "       [1.],\n",
       "       [0.],\n",
       "       [1.],\n",
       "       [0.],\n",
       "       [1.],\n",
       "       [0.],\n",
       "       [0.],\n",
       "       [1.],\n",
       "       [0.],\n",
       "       [1.],\n",
       "       [0.],\n",
       "       [1.],\n",
       "       [0.],\n",
       "       [1.],\n",
       "       [0.],\n",
       "       [1.],\n",
       "       [0.],\n",
       "       [1.],\n",
       "       [0.],\n",
       "       [1.],\n",
       "       [0.],\n",
       "       [1.],\n",
       "       [0.],\n",
       "       [1.],\n",
       "       [0.],\n",
       "       [1.],\n",
       "       [0.],\n",
       "       [1.],\n",
       "       [0.],\n",
       "       [1.],\n",
       "       [0.],\n",
       "       [1.],\n",
       "       [0.],\n",
       "       [1.],\n",
       "       [0.],\n",
       "       [1.],\n",
       "       [0.],\n",
       "       [1.],\n",
       "       [0.],\n",
       "       [1.],\n",
       "       [0.],\n",
       "       [1.],\n",
       "       [0.],\n",
       "       [1.],\n",
       "       [0.],\n",
       "       [1.],\n",
       "       [0.],\n",
       "       [1.],\n",
       "       [0.],\n",
       "       [1.],\n",
       "       [0.],\n",
       "       [1.],\n",
       "       [0.],\n",
       "       [1.],\n",
       "       [0.],\n",
       "       [1.],\n",
       "       [0.],\n",
       "       [1.],\n",
       "       [0.],\n",
       "       [1.],\n",
       "       [0.],\n",
       "       [1.],\n",
       "       [0.],\n",
       "       [1.],\n",
       "       [0.],\n",
       "       [1.],\n",
       "       [0.],\n",
       "       [1.],\n",
       "       [0.],\n",
       "       [1.],\n",
       "       [0.],\n",
       "       [1.],\n",
       "       [0.],\n",
       "       [1.],\n",
       "       [0.],\n",
       "       [1.],\n",
       "       [0.],\n",
       "       [1.],\n",
       "       [0.],\n",
       "       [1.],\n",
       "       [0.],\n",
       "       [1.],\n",
       "       [0.],\n",
       "       [1.],\n",
       "       [0.],\n",
       "       [1.],\n",
       "       [0.],\n",
       "       [1.],\n",
       "       [0.],\n",
       "       [1.],\n",
       "       [0.],\n",
       "       [1.],\n",
       "       [0.],\n",
       "       [1.],\n",
       "       [0.],\n",
       "       [1.],\n",
       "       [0.],\n",
       "       [1.],\n",
       "       [0.],\n",
       "       [1.],\n",
       "       [0.],\n",
       "       [1.],\n",
       "       [0.],\n",
       "       [1.],\n",
       "       [0.],\n",
       "       [1.],\n",
       "       [0.],\n",
       "       [1.],\n",
       "       [0.],\n",
       "       [1.],\n",
       "       [0.],\n",
       "       [1.],\n",
       "       [0.],\n",
       "       [1.],\n",
       "       [0.],\n",
       "       [1.],\n",
       "       [0.],\n",
       "       [1.],\n",
       "       [0.],\n",
       "       [1.],\n",
       "       [0.],\n",
       "       [1.],\n",
       "       [0.],\n",
       "       [1.],\n",
       "       [0.],\n",
       "       [1.],\n",
       "       [0.],\n",
       "       [1.],\n",
       "       [0.],\n",
       "       [1.],\n",
       "       [0.],\n",
       "       [1.],\n",
       "       [0.],\n",
       "       [1.],\n",
       "       [0.],\n",
       "       [1.],\n",
       "       [0.],\n",
       "       [1.],\n",
       "       [0.],\n",
       "       [1.],\n",
       "       [0.],\n",
       "       [1.],\n",
       "       [0.],\n",
       "       [1.],\n",
       "       [0.],\n",
       "       [1.],\n",
       "       [0.],\n",
       "       [1.],\n",
       "       [0.],\n",
       "       [1.],\n",
       "       [0.],\n",
       "       [1.],\n",
       "       [0.],\n",
       "       [1.],\n",
       "       [0.],\n",
       "       [1.],\n",
       "       [0.],\n",
       "       [1.],\n",
       "       [0.],\n",
       "       [1.],\n",
       "       [0.],\n",
       "       [1.],\n",
       "       [0.],\n",
       "       [1.]])"
      ]
     },
     "execution_count": 13,
     "metadata": {},
     "output_type": "execute_result"
    }
   ],
   "source": [
    "unique_val=zombie_data['zombie'].unique()\n",
    "zombie_one_hot=np.zeros((len(zombie_data['zombie']),len(unique_val)))\n",
    "zombie_index={walker:i for i,walker in enumerate(unique_val)}\n",
    "for i,walker in enumerate(zombie_data['zombie']):\n",
    "        zombie_one_hot[i,zombie_index[walker]]=1\n",
    "zombie_one_hot.reshape(-1,1)"
   ]
  },
  {
   "cell_type": "code",
   "execution_count": 14,
   "id": "7be7f1a9-286d-4880-82af-5a28c0acf4bd",
   "metadata": {
    "tags": []
   },
   "outputs": [],
   "source": [
    "zombie_data['zombie']=zombie_one_hot\n",
    "zombie_data=zombie_data.apply(lambda x:x.astype(np.float64))\n",
    "attributes=['age','sex','rurality',\t'household','water','food','medication','tools','firstaid','sanitation','clothing','documents']\n",
    "X=zombie_data[attributes].values\n",
    "y=zombie_data['zombie'].values"
   ]
  },
  {
   "cell_type": "code",
   "execution_count": 15,
   "id": "8bc350bd-9a04-45cb-b966-8d3b480dea84",
   "metadata": {},
   "outputs": [
    {
     "data": {
      "text/html": [
       "<div>\n",
       "<style scoped>\n",
       "    .dataframe tbody tr th:only-of-type {\n",
       "        vertical-align: middle;\n",
       "    }\n",
       "\n",
       "    .dataframe tbody tr th {\n",
       "        vertical-align: top;\n",
       "    }\n",
       "\n",
       "    .dataframe thead th {\n",
       "        text-align: right;\n",
       "    }\n",
       "</style>\n",
       "<table border=\"1\" class=\"dataframe\">\n",
       "  <thead>\n",
       "    <tr style=\"text-align: right;\">\n",
       "      <th></th>\n",
       "      <th>Attributes</th>\n",
       "      <th>F-Statistic</th>\n",
       "      <th>P-Value</th>\n",
       "    </tr>\n",
       "  </thead>\n",
       "  <tbody>\n",
       "    <tr>\n",
       "      <th>0</th>\n",
       "      <td>age</td>\n",
       "      <td>32.984164</td>\n",
       "      <td>3.457224e-08</td>\n",
       "    </tr>\n",
       "    <tr>\n",
       "      <th>1</th>\n",
       "      <td>sex</td>\n",
       "      <td>0.367846</td>\n",
       "      <td>5.448753e-01</td>\n",
       "    </tr>\n",
       "    <tr>\n",
       "      <th>2</th>\n",
       "      <td>rurality</td>\n",
       "      <td>21.027376</td>\n",
       "      <td>8.015767e-06</td>\n",
       "    </tr>\n",
       "    <tr>\n",
       "      <th>3</th>\n",
       "      <td>household</td>\n",
       "      <td>2.486798</td>\n",
       "      <td>1.164015e-01</td>\n",
       "    </tr>\n",
       "    <tr>\n",
       "      <th>4</th>\n",
       "      <td>water</td>\n",
       "      <td>27.376837</td>\n",
       "      <td>4.247735e-07</td>\n",
       "    </tr>\n",
       "    <tr>\n",
       "      <th>5</th>\n",
       "      <td>food</td>\n",
       "      <td>66.946577</td>\n",
       "      <td>3.332361e-14</td>\n",
       "    </tr>\n",
       "    <tr>\n",
       "      <th>6</th>\n",
       "      <td>medication</td>\n",
       "      <td>45.693801</td>\n",
       "      <td>1.513042e-10</td>\n",
       "    </tr>\n",
       "    <tr>\n",
       "      <th>7</th>\n",
       "      <td>tools</td>\n",
       "      <td>0.000914</td>\n",
       "      <td>9.759179e-01</td>\n",
       "    </tr>\n",
       "    <tr>\n",
       "      <th>8</th>\n",
       "      <td>firstaid</td>\n",
       "      <td>0.687302</td>\n",
       "      <td>4.080818e-01</td>\n",
       "    </tr>\n",
       "    <tr>\n",
       "      <th>9</th>\n",
       "      <td>sanitation</td>\n",
       "      <td>16.910389</td>\n",
       "      <td>5.740872e-05</td>\n",
       "    </tr>\n",
       "    <tr>\n",
       "      <th>10</th>\n",
       "      <td>clothing</td>\n",
       "      <td>0.442885</td>\n",
       "      <td>5.065080e-01</td>\n",
       "    </tr>\n",
       "    <tr>\n",
       "      <th>11</th>\n",
       "      <td>documents</td>\n",
       "      <td>1.564120</td>\n",
       "      <td>2.125389e-01</td>\n",
       "    </tr>\n",
       "  </tbody>\n",
       "</table>\n",
       "</div>"
      ],
      "text/plain": [
       "    Attributes  F-Statistic       P-Value\n",
       "0          age    32.984164  3.457224e-08\n",
       "1          sex     0.367846  5.448753e-01\n",
       "2     rurality    21.027376  8.015767e-06\n",
       "3    household     2.486798  1.164015e-01\n",
       "4        water    27.376837  4.247735e-07\n",
       "5         food    66.946577  3.332361e-14\n",
       "6   medication    45.693801  1.513042e-10\n",
       "7        tools     0.000914  9.759179e-01\n",
       "8     firstaid     0.687302  4.080818e-01\n",
       "9   sanitation    16.910389  5.740872e-05\n",
       "10    clothing     0.442885  5.065080e-01\n",
       "11   documents     1.564120  2.125389e-01"
      ]
     },
     "execution_count": 15,
     "metadata": {},
     "output_type": "execute_result"
    }
   ],
   "source": [
    "f2,z=f_regression(X,y,center=True,force_finite=True)\n",
    "results=pd.DataFrame({'Attributes':attributes,'F-Statistic': f2, 'P-Value':z})\n",
    "results"
   ]
  },
  {
   "cell_type": "code",
   "execution_count": 16,
   "id": "c57205d7-963b-4649-af26-ad18b68979f8",
   "metadata": {
    "tags": []
   },
   "outputs": [
    {
     "data": {
      "text/html": [
       "<div>\n",
       "<style scoped>\n",
       "    .dataframe tbody tr th:only-of-type {\n",
       "        vertical-align: middle;\n",
       "    }\n",
       "\n",
       "    .dataframe tbody tr th {\n",
       "        vertical-align: top;\n",
       "    }\n",
       "\n",
       "    .dataframe thead th {\n",
       "        text-align: right;\n",
       "    }\n",
       "</style>\n",
       "<table border=\"1\" class=\"dataframe\">\n",
       "  <thead>\n",
       "    <tr style=\"text-align: right;\">\n",
       "      <th></th>\n",
       "      <th>age</th>\n",
       "      <th>rurality</th>\n",
       "      <th>household</th>\n",
       "      <th>water</th>\n",
       "      <th>food</th>\n",
       "      <th>medication</th>\n",
       "      <th>sanitation</th>\n",
       "    </tr>\n",
       "  </thead>\n",
       "  <tbody>\n",
       "    <tr>\n",
       "      <th>0</th>\n",
       "      <td>18.0</td>\n",
       "      <td>0.0</td>\n",
       "      <td>1.0</td>\n",
       "      <td>0.0</td>\n",
       "      <td>0.0</td>\n",
       "      <td>0.0</td>\n",
       "      <td>0.0</td>\n",
       "    </tr>\n",
       "    <tr>\n",
       "      <th>1</th>\n",
       "      <td>18.0</td>\n",
       "      <td>0.0</td>\n",
       "      <td>3.0</td>\n",
       "      <td>24.0</td>\n",
       "      <td>0.0</td>\n",
       "      <td>0.0</td>\n",
       "      <td>0.0</td>\n",
       "    </tr>\n",
       "    <tr>\n",
       "      <th>2</th>\n",
       "      <td>18.0</td>\n",
       "      <td>0.0</td>\n",
       "      <td>4.0</td>\n",
       "      <td>16.0</td>\n",
       "      <td>0.0</td>\n",
       "      <td>0.0</td>\n",
       "      <td>0.0</td>\n",
       "    </tr>\n",
       "    <tr>\n",
       "      <th>3</th>\n",
       "      <td>19.0</td>\n",
       "      <td>0.0</td>\n",
       "      <td>1.0</td>\n",
       "      <td>0.0</td>\n",
       "      <td>0.0</td>\n",
       "      <td>0.0</td>\n",
       "      <td>0.0</td>\n",
       "    </tr>\n",
       "    <tr>\n",
       "      <th>4</th>\n",
       "      <td>19.0</td>\n",
       "      <td>1.0</td>\n",
       "      <td>1.0</td>\n",
       "      <td>0.0</td>\n",
       "      <td>0.0</td>\n",
       "      <td>0.0</td>\n",
       "      <td>0.0</td>\n",
       "    </tr>\n",
       "    <tr>\n",
       "      <th>...</th>\n",
       "      <td>...</td>\n",
       "      <td>...</td>\n",
       "      <td>...</td>\n",
       "      <td>...</td>\n",
       "      <td>...</td>\n",
       "      <td>...</td>\n",
       "      <td>...</td>\n",
       "    </tr>\n",
       "    <tr>\n",
       "      <th>195</th>\n",
       "      <td>68.0</td>\n",
       "      <td>2.0</td>\n",
       "      <td>1.0</td>\n",
       "      <td>0.0</td>\n",
       "      <td>0.0</td>\n",
       "      <td>1.0</td>\n",
       "      <td>0.0</td>\n",
       "    </tr>\n",
       "    <tr>\n",
       "      <th>196</th>\n",
       "      <td>71.0</td>\n",
       "      <td>2.0</td>\n",
       "      <td>1.0</td>\n",
       "      <td>8.0</td>\n",
       "      <td>1.0</td>\n",
       "      <td>1.0</td>\n",
       "      <td>1.0</td>\n",
       "    </tr>\n",
       "    <tr>\n",
       "      <th>197</th>\n",
       "      <td>76.0</td>\n",
       "      <td>1.0</td>\n",
       "      <td>1.0</td>\n",
       "      <td>0.0</td>\n",
       "      <td>1.0</td>\n",
       "      <td>1.0</td>\n",
       "      <td>0.0</td>\n",
       "    </tr>\n",
       "    <tr>\n",
       "      <th>198</th>\n",
       "      <td>82.0</td>\n",
       "      <td>1.0</td>\n",
       "      <td>1.0</td>\n",
       "      <td>0.0</td>\n",
       "      <td>1.0</td>\n",
       "      <td>1.0</td>\n",
       "      <td>1.0</td>\n",
       "    </tr>\n",
       "    <tr>\n",
       "      <th>199</th>\n",
       "      <td>85.0</td>\n",
       "      <td>1.0</td>\n",
       "      <td>1.0</td>\n",
       "      <td>0.0</td>\n",
       "      <td>1.0</td>\n",
       "      <td>0.0</td>\n",
       "      <td>0.0</td>\n",
       "    </tr>\n",
       "  </tbody>\n",
       "</table>\n",
       "<p>200 rows × 7 columns</p>\n",
       "</div>"
      ],
      "text/plain": [
       "      age  rurality  household  water  food  medication  sanitation\n",
       "0    18.0       0.0        1.0    0.0   0.0         0.0         0.0\n",
       "1    18.0       0.0        3.0   24.0   0.0         0.0         0.0\n",
       "2    18.0       0.0        4.0   16.0   0.0         0.0         0.0\n",
       "3    19.0       0.0        1.0    0.0   0.0         0.0         0.0\n",
       "4    19.0       1.0        1.0    0.0   0.0         0.0         0.0\n",
       "..    ...       ...        ...    ...   ...         ...         ...\n",
       "195  68.0       2.0        1.0    0.0   0.0         1.0         0.0\n",
       "196  71.0       2.0        1.0    8.0   1.0         1.0         1.0\n",
       "197  76.0       1.0        1.0    0.0   1.0         1.0         0.0\n",
       "198  82.0       1.0        1.0    0.0   1.0         1.0         1.0\n",
       "199  85.0       1.0        1.0    0.0   1.0         0.0         0.0\n",
       "\n",
       "[200 rows x 7 columns]"
      ]
     },
     "execution_count": 16,
     "metadata": {},
     "output_type": "execute_result"
    }
   ],
   "source": [
    "k_best=SelectKBest(score_func=f_regression,k=7)\n",
    "x_new=k_best.fit_transform(X,y)\n",
    "indices_zombie=k_best.get_support(indices=True)\n",
    "results=[attributes[i] for i in indices_zombie]\n",
    "features=pd.DataFrame(x_new,columns=results)\n",
    "features"
   ]
  },
  {
   "cell_type": "code",
   "execution_count": 17,
   "id": "916a1e84-3a9e-4bfe-8c69-d4bbc5a7c5ee",
   "metadata": {
    "tags": []
   },
   "outputs": [],
   "source": [
    "selected_attributes=['age','rurality','household','water','food','medication','sanitation']\n",
    "X_selected=zombie_data[selected_attributes].values\n",
    "Model_log=LogisticRegression(max_iter=400)\n",
    "Model_random=RandomForestClassifier()\n",
    "Model_SVM=SVC()\n",
    "Model_Decision=DecisionTreeClassifier()"
   ]
  },
  {
   "cell_type": "code",
   "execution_count": 18,
   "id": "72cc5360-9281-40a6-98df-871dd2ecaac0",
   "metadata": {
    "tags": []
   },
   "outputs": [
    {
     "data": {
      "text/plain": [
       "0.8666666666666667"
      ]
     },
     "execution_count": 18,
     "metadata": {},
     "output_type": "execute_result"
    }
   ],
   "source": [
    "X_train,X_test,y_train,y_test=train_test_split(X_selected,y,test_size=0.3,random_state=42)\n",
    "Model_log.fit(X_train,y_train)\n",
    "y_pred=Model_log.predict(X_test)\n",
    "mae=mean_absolute_error(y_test,y_pred)\n",
    "acc=accuracy_score(y_test,y_pred)\n",
    "acc"
   ]
  },
  {
   "cell_type": "code",
   "execution_count": 19,
   "id": "ac59f425-3986-42e9-986a-e473ec99f0c7",
   "metadata": {
    "tags": []
   },
   "outputs": [
    {
     "data": {
      "text/plain": [
       "0.8333333333333334"
      ]
     },
     "execution_count": 19,
     "metadata": {},
     "output_type": "execute_result"
    }
   ],
   "source": [
    "Model_Decision.fit(X_train,y_train)\n",
    "y_pred_Decision=Model_Decision.predict(X_test)\n",
    "mae=mean_absolute_error(y_test,y_pred_Decision)\n",
    "acc_Decision=accuracy_score(y_test,y_pred_Decision)\n",
    "acc_Decision"
   ]
  },
  {
   "cell_type": "code",
   "execution_count": 20,
   "id": "2e4a85f9-1750-4c6f-b608-59a3b8f1ec32",
   "metadata": {
    "tags": []
   },
   "outputs": [
    {
     "data": {
      "text/plain": [
       "0.8166666666666667"
      ]
     },
     "execution_count": 20,
     "metadata": {},
     "output_type": "execute_result"
    }
   ],
   "source": [
    "Model_random.fit(X_train,y_train)\n",
    "y_pred_random=Model_random.predict(X_test)\n",
    "mae_random = mean_absolute_error(y_test,y_pred_random)\n",
    "acc_random=accuracy_score(y_test,y_pred_random)\n",
    "acc_random"
   ]
  },
  {
   "cell_type": "code",
   "execution_count": 21,
   "id": "4552c9ac-3fce-418f-bea5-bcd669954231",
   "metadata": {
    "tags": []
   },
   "outputs": [
    {
     "data": {
      "text/plain": [
       "0.7666666666666667"
      ]
     },
     "execution_count": 21,
     "metadata": {},
     "output_type": "execute_result"
    }
   ],
   "source": [
    "Model_SVM.fit(X_train,y_train)\n",
    "y_pred_SVM=Model_SVM.predict(X_test)\n",
    "mae_SVM = mean_absolute_error(y_test,y_pred_SVM)\n",
    "acc_SVM=accuracy_score(y_test,y_pred_SVM)\n",
    "acc_SVM"
   ]
  },
  {
   "cell_type": "code",
   "execution_count": 22,
   "id": "97926e94-7537-485b-a9ac-4f3c2b717f62",
   "metadata": {
    "tags": []
   },
   "outputs": [],
   "source": [
    "filename=\"model.pkl\"\n",
    "pickle.dump(Model_log,open(filename,'wb'))"
   ]
  },
  {
   "cell_type": "code",
   "execution_count": 23,
   "id": "72d50d80-0a34-456f-a9e4-02f6323e9998",
   "metadata": {},
   "outputs": [],
   "source": [
    "filename_rurality=\"rurality.pkl\"\n",
    "pickle.dump(Mapping_rurality,open(filename_rurality,'wb'))\n",
    "filename_food=\"food.pkl\"\n",
    "pickle.dump(Mapping_food,open(filename_food,'wb'))\n",
    "filename_medication=\"medication.pkl\"\n",
    "pickle.dump(Mapping_medication,open(filename_medication,'wb'))\n",
    "filename_sanitation=\"sanitation.pkl\"\n",
    "pickle.dump(Mapping_sanitation,open(filename_sanitation,'wb'))\n",
    "\n"
   ]
  }
 ],
 "metadata": {
  "kernelspec": {
   "display_name": "Python 3 (ipykernel)",
   "language": "python",
   "name": "python3"
  },
  "language_info": {
   "codemirror_mode": {
    "name": "ipython",
    "version": 3
   },
   "file_extension": ".py",
   "mimetype": "text/x-python",
   "name": "python",
   "nbconvert_exporter": "python",
   "pygments_lexer": "ipython3",
   "version": "3.11.5"
  }
 },
 "nbformat": 4,
 "nbformat_minor": 5
}
